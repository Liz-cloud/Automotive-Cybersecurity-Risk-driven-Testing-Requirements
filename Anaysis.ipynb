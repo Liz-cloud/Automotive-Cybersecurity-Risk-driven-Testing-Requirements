{
  "cells": [
    {
      "cell_type": "markdown",
      "metadata": {
        "id": "ZRCClzpjCuZo"
      },
      "source": [
        "# **DATA ANALYSIS**\n",
        "\n",
        "1. Organise the data\n",
        "2. Pass log files with and witghout MAC verification to extract releventy fields such as:\n",
        "    * Timestamps\n",
        "    * CAN ID\n",
        "    * Data\n",
        "    * Origin\n",
        "    * Destination\n",
        "    * Status\n",
        "    * Error\n",
        "    * Latency\n",
        "\n",
        "3. Data points of interest\n",
        "  *  Latency: Time difference between messages sent and received\n",
        "  *  Messages Type: Whether the message triggered a sensor or system action (Belt ON/OFF, Headlights ON/OFF, Door Locked/Unlocked)\n",
        "  *  MAC Verification : Whether the messages passed or failed MAC verification in the log file with MAC\n",
        "  * Errors: Number abnormal messages messages (invalid CAN IDs, failed MAC checks)\n",
        "\n",
        "4. Descriptive Statistics:\n",
        "  * Mean, Median and Standard Deviation: Compute these for both log files with MAC and without MAC to compare the overhead introduced by the MAC vefication\n",
        "  * Success and Failure Rate: For the MAC-Enabled log, calculate the percentage of messages that successfully passed the MAC verification versus those that failed\n",
        "  * Error Rate: For log wihout MAC caculate how many messages were flagged as abnormal due to invalid CAN ID and comapre to the toatl number of messages\n",
        "\n",
        "5. Visualization\n",
        "  * Latency Comparisoon :\n",
        "      * X-Axis - Timestamp\n",
        "      * Y axis Latency in milliseconds\n",
        "      * Plot latency distribution for each condition with and without MAC\n",
        "\n",
        "    * MAC verification Analysis:\n",
        "\n",
        "      Create a pie chart showing the proportion of messages that passed MAC verification (Belt ON/OFF, Headlights ON/OFF, Door Locked/Unlocked)\n",
        "    \n",
        "    * Message Types Breakdown\n",
        "\n",
        "      A bar graph to show the proportion of different messages types (Belt ON/OFF, Headlights ON/OFF, Door Locked/Unlocked) processed in each log\n",
        "\n",
        "6. Error and Abnormal Messages Analysis:\n",
        "  * For each fuzzing attack (Random, Linear, Brute Force, Mutated Based and Replay) test calculate how many abnormal or authorized messgaes were proccesssed with or without MAC enabled\n",
        "\n",
        "  * Error Rate Comaprison; Plot a graph showing error rate (invlaid CAN IDs or failed MAC verication) between the logs."
      ]
    },
    {
      "cell_type": "markdown",
      "metadata": {
        "id": "Lk6Y32qwmP1K"
      },
      "source": [
        "To access the google drive files"
      ]
    },
    {
      "cell_type": "code",
      "execution_count": null,
      "metadata": {
        "colab": {
          "base_uri": "https://localhost:8080/"
        },
        "id": "_jptpvGdmPe3",
        "outputId": "544dde3f-cd70-49ab-ab4b-f8ec2367acef"
      },
      "outputs": [
        {
          "ename": "",
          "evalue": "",
          "output_type": "error",
          "traceback": [
            "\u001b[1;31mRunning cells with 'Python 3.11.2' requires the ipykernel package.\n",
            "\u001b[1;31mRun the following command to install 'ipykernel' into the Python environment. \n",
            "\u001b[1;31mCommand: '/bin/python -m pip install ipykernel -U --user --force-reinstall'"
          ]
        }
      ],
      "source": [
        "from google.colab import drive\n",
        "drive.mount('/content/drive')\n"
      ]
    },
    {
      "cell_type": "markdown",
      "metadata": {
        "id": "DvVFxuHabQbs"
      },
      "source": [
        "# **Import libraries**"
      ]
    },
    {
      "cell_type": "code",
      "execution_count": null,
      "metadata": {
        "id": "5wQjvd76bNJK"
      },
      "outputs": [],
      "source": [
        "import re\n",
        "from datetime import datetime\n",
        "import matplotlib.pyplot as plt\n",
        "import numpy as np\n",
        "import pandas as pd\n",
        "import seaborn as sns"
      ]
    },
    {
      "cell_type": "markdown",
      "metadata": {
        "id": "SbzmToiaKdYf"
      },
      "source": [
        "**# Parse the log file to extract relevent information:**\n",
        "* Timestamps\n",
        "* CAN ID\n",
        "* Data\n",
        "* Origin\n",
        "* Destination\n",
        "* Status\n",
        "* Error\n",
        "* Latency\n",
        "\n",
        "***For example:***\n",
        "\n",
        "```\n",
        "2024-09-24 14:23:14,763 CAN ID:512\n",
        "Data:bytearray(b'\\x03f\\xf2\\xbdBs\\xda\\xb8')\n",
        "Origin:DCM\n",
        "Destination:BCM\n",
        "Status:Door is Locked\n",
        "Error:MAC verification successful\n",
        "Latency:763\n",
        "```\n",
        "\n",
        "\n",
        "\n",
        "\n"
      ]
    },
    {
      "cell_type": "code",
      "execution_count": null,
      "metadata": {
        "id": "tfOirzLxKmeY"
      },
      "outputs": [],
      "source": [
        "# Function to parse CAN message log lines\n",
        "def parse_can_message(lines):\n",
        "    message = {}\n",
        "\n",
        "    # Extract the first line (timestamp and CAN ID)\n",
        "    timestamp_match = re.search(r'^(\\d{4}-\\d{2}-\\d{2} \\d{2}:\\d{2}:\\d{2},\\d{3}) CAN ID:(\\d+)', lines[0])\n",
        "    if timestamp_match:\n",
        "        message['Timestamp'] = datetime.strptime(timestamp_match.group(1), '%Y-%m-%d %H:%M:%S,%f')\n",
        "        message['CAN_ID'] = int(timestamp_match.group(2))\n",
        "\n",
        "    # Extract Data\n",
        "    data_match = re.search(r\"Data:bytearray\\((.*)\\)\", lines[1])\n",
        "    if data_match:\n",
        "        message['Data'] = data_match.group(1)\n",
        "\n",
        "    # Extract Origin, Destination, Diagnostic Message, and Latency\n",
        "    message['Origin'] = lines[2].split(':')[1].strip()\n",
        "    message['Destination'] = lines[3].split(':')[1].strip()\n",
        "    message['Status'] = lines[4].split(':')[1].strip()\n",
        "    message['Error'] = lines[5].split(':')[1].strip()\n",
        "\n",
        "    # Extract and handle Latency (convert 'N/A' to 0)\n",
        "    latency_value = lines[6].split(':')[1].strip()\n",
        "    if latency_value == 'N/A':\n",
        "        message['Latency'] = 0\n",
        "    else:\n",
        "        message['Latency'] = int(latency_value)\n",
        "\n",
        "    # message['Latency'] = int(lines[6].split(':')[1].strip())\n",
        "\n",
        "    return message"
      ]
    },
    {
      "cell_type": "markdown",
      "metadata": {
        "id": "CecLSTrqleJk"
      },
      "source": [
        "# **Visualise Latency over time**"
      ]
    },
    {
      "cell_type": "code",
      "execution_count": null,
      "metadata": {
        "id": "Ahi7_6dZlj9T"
      },
      "outputs": [],
      "source": [
        "def Latency_over_time(df):\n",
        "  plt.figure(figsize=(10, 6))\n",
        "  plt.plot(df['Timestamp'], df['Latency'], marker='o', linestyle='-', color='blue')\n",
        "  plt.xlabel('Timestamp')\n",
        "  plt.ylabel('Latency (ms)')\n",
        "  plt.title('Latency Over Time')\n",
        "  plt.xticks(rotation=45)\n",
        "  plt.grid(True)\n",
        "  plt.show()"
      ]
    },
    {
      "cell_type": "markdown",
      "metadata": {
        "id": "P3ymxL9dgvXX"
      },
      "source": [
        "# **Visualise Latency distribution**\n",
        "\n",
        "\n"
      ]
    },
    {
      "cell_type": "code",
      "execution_count": null,
      "metadata": {
        "id": "MMmpUfn2hVfP"
      },
      "outputs": [],
      "source": [
        "def Latency_distribution(df):\n",
        "    latency_summary = df['Latency'].describe()\n",
        "    print('\\nLatency Distribution:\\n', latency_summary)\n",
        "\n",
        "    # Visualize: Latency distribution using histogram with a normal distribution curve\n",
        "    plt.figure(figsize=(10, 6))\n",
        "\n",
        "    # Create a histogram of the latency values\n",
        "    sns.histplot(df['Latency'], kde=True, color='blue', bins=10)\n",
        "\n",
        "    # Label the plot\n",
        "    plt.ylabel('Frequency')\n",
        "    plt.xlabel('Latency (ms)')\n",
        "    plt.title('Latency Distribution with Normal Curve')\n",
        "\n",
        "    plt.show()\n"
      ]
    },
    {
      "cell_type": "markdown",
      "metadata": {
        "id": "dgLY9AudjAt9"
      },
      "source": [
        "# **Display Message Distribution**"
      ]
    },
    {
      "cell_type": "code",
      "execution_count": null,
      "metadata": {
        "id": "A4NaOJBUjFkf"
      },
      "outputs": [],
      "source": [
        "def Message_distribution(df):\n",
        "  message_counts = df['Status'].value_counts()\n",
        "  print('Sensor Status Distribution:\\n',message_counts)\n",
        "\n",
        "  plt.figure(figsize=(10, 6))\n",
        "  message_counts.plot(kind='bar', color='blue')\n",
        "  plt.xlabel('Status')\n",
        "  plt.ylabel('Count')\n",
        "  plt.title('Sensor Status Distribution')\n",
        "  plt.xticks(rotation=45)\n",
        "  plt.show()"
      ]
    },
    {
      "cell_type": "code",
      "execution_count": null,
      "metadata": {
        "id": "mDliRwH5K2py"
      },
      "outputs": [],
      "source": []
    },
    {
      "cell_type": "markdown",
      "metadata": {
        "id": "szRBE56Js65o"
      },
      "source": [
        "# **Dispaly Errors Distribution**"
      ]
    },
    {
      "cell_type": "code",
      "execution_count": null,
      "metadata": {
        "id": "ke-VVpNXtCCW"
      },
      "outputs": [],
      "source": [
        "def Error_distribution(df):\n",
        "  error_counts = df['Error'].value_counts()\n",
        "  print('Error Distribution:\\n',error_counts)\n",
        "\n",
        "  # Plot the pie chart\n",
        "  plt.figure(figsize=(8, 8))\n",
        "  plt.pie(error_counts, labels=error_counts.index, autopct='%1.1f%%', startangle=90, colors=['lightblue', 'lightgreen', 'lightcoral', 'yellow'])\n",
        "\n",
        "  # Equal aspect ratio ensures that pie is drawn as a circle.\n",
        "  plt.axis('equal')\n",
        "\n",
        "  # Add a title\n",
        "  plt.title('Error Distribution in CAN Messages')\n",
        "  plt.show()"
      ]
    },
    {
      "cell_type": "markdown",
      "metadata": {
        "id": "4pPiuVcCiL_z"
      },
      "source": [
        "# Read Captured CAN Messages"
      ]
    },
    {
      "cell_type": "code",
      "execution_count": null,
      "metadata": {
        "id": "3niGf9aUwvpW"
      },
      "outputs": [],
      "source": [
        "!pip install python-can"
      ]
    },
    {
      "cell_type": "code",
      "execution_count": null,
      "metadata": {
        "colab": {
          "base_uri": "https://localhost:8080/"
        },
        "id": "tEIyOm_lwBNj",
        "outputId": "7f1fc21b-9aa3-480d-8472-3955569a53d2"
      },
      "outputs": [],
      "source": [
        "import pickle\n",
        "import pprint\n",
        "\n",
        "obj = pickle.load(open(\"/home/lindamafunu/Desktop/Automotive-Cybersecurity-Risk-driven-Testing-Requirements/Fuzzer/captured_frames.pkl\", \"rb\"))\n",
        "\n",
        "with open(\"ECU2/out.txt\", \"a\") as f:\n",
        "  print(f\"Loaded {len(obj)} captured frames from captured_frames.pkl\", file=f)\n",
        "  print('!')\n",
        "  pprint.pprint(obj, stream=f)"
      ]
    },
    {
      "cell_type": "markdown",
      "metadata": {
        "id": "2miDZzLmiGsT"
      },
      "source": [
        "# **Extraxt Statics Data**"
      ]
    },
    {
      "cell_type": "code",
      "execution_count": null,
      "metadata": {
        "colab": {
          "base_uri": "https://localhost:8080/",
          "height": 1000
        },
        "id": "3ikxIRtLZBEX",
        "outputId": "08b9ec61-52a9-422e-c641-1e15707fd3cb"
      },
      "outputs": [],
      "source": [
        "filename='/home/lindamafunu/Desktop/Automotive-Cybersecurity-Risk-driven-Testing-Requirements/ECU2/BCM.log'\n",
        "\n",
        "with open(filename, 'r') as file:\n",
        "        log_data = file.readlines()[1:]\n",
        "\n",
        " #List to store parsed CAN messages\n",
        "can_messages = []\n",
        "# Parse the log file line by line\n",
        "i = 0\n",
        "while i < len(log_data):\n",
        "    # Check if the line contains a CAN message (timestamp followed by CAN ID)\n",
        "    if \"CAN ID\" in log_data[i]:\n",
        "        # Each CAN message is followed by 6 additional lines\n",
        "        can_message = parse_can_message(log_data[i:i+7])\n",
        "        can_messages.append(can_message)\n",
        "        i += 7  # Skip to the next message\n",
        "    else:\n",
        "        i += 1  # Skip non-CAN log lines\n",
        "\n",
        "# Create a pandas DataFrame from the extracted data\n",
        "df = pd.DataFrame(can_messages)\n",
        "\n",
        "# Display the first few rows\n",
        "print(df.head())\n",
        "\n",
        "# Display latency over time\n",
        "Latency_over_time(df)\n",
        "\n",
        "# display latency distribution\n",
        "Latency_distribution(df)\n",
        "\n",
        "# display message distribution\n",
        "Message_distribution(df)\n",
        "\n",
        "# display errors distribution\n",
        "Error_distribution(df)"
      ]
    }
  ],
  "metadata": {
    "colab": {
      "provenance": []
    },
    "kernelspec": {
      "display_name": "Python 3",
      "name": "python3"
    },
    "language_info": {
      "name": "python",
      "version": "3.11.2"
    }
  },
  "nbformat": 4,
  "nbformat_minor": 0
}
